{
 "cells": [
  {
   "cell_type": "code",
   "execution_count": 4,
   "metadata": {},
   "outputs": [],
   "source": [
    "import pandas as pd\n"
   ]
  },
  {
   "cell_type": "code",
   "execution_count": null,
   "metadata": {},
   "outputs": [],
   "source": [
    "dados =  pd.read_csv('data.csv')\n",
    "df = pd.DataFrame(dados)\n",
    "print(df.columns)\n"
   ]
  },
  {
   "cell_type": "code",
   "execution_count": 6,
   "metadata": {},
   "outputs": [],
   "source": [
    "df['name'] = df['first_name'].str.cat(df['last_name'], sep=' ')\n",
    "df = df.drop(['first_name', 'last_name'], axis=1)"
   ]
  },
  {
   "cell_type": "code",
   "execution_count": 8,
   "metadata": {},
   "outputs": [],
   "source": [
    "df.rename(columns={'Manufacturer': 'Fintech'}, inplace=True)\n",
    "df.rename(columns={'Salles_Value': 'Value'}, inplace=True)"
   ]
  },
  {
   "cell_type": "code",
   "execution_count": null,
   "metadata": {},
   "outputs": [],
   "source": [
    "print(df.columns)\n",
    "df_pbi = df[['id', 'email', 'gender', 'Value', 'Credit_card', 'Fintech']]\n",
    "\n",
    "df_pbi.to_csv('dados_pb.csv', index=False)\n"
   ]
  },
  {
   "cell_type": "code",
   "execution_count": 33,
   "metadata": {},
   "outputs": [
    {
     "name": "stdout",
     "output_type": "stream",
     "text": [
      "Index(['id', 'email', 'gender', 'Value', 'Credit_card', 'Fintech',\n",
      "       'Unnamed: 0', 'cluster'],\n",
      "      dtype='object')\n"
     ]
    }
   ],
   "source": [
    "df_cluster = pd.read_csv('dados_cluster.csv')\n",
    "\n",
    "df_planilhas = pd.merge(df_pbi, df_cluster, on=\"id\", how='inner')\n",
    "\n",
    "print(df_planilhas.columns)"
   ]
  },
  {
   "cell_type": "code",
   "execution_count": null,
   "metadata": {},
   "outputs": [],
   "source": [
    "#verificando se as distribuições de gênero e fintech dentro de cada cluster\n",
    "\n",
    "df_grupos = df_planilhas.groupby(['cluster','gender','Fintech' ]).size().reset_index(name= 'Count')\n",
    "\n",
    "print(df_grupos)"
   ]
  },
  {
   "cell_type": "code",
   "execution_count": null,
   "metadata": {},
   "outputs": [],
   "source": [
    "#criando uma tabela cruzada para entender a correlação dos dados. No excel é como colar em L\n",
    "\n",
    "tabela = pd.pivot_table(df_planilhas, values = 'id',index=['cluster', 'gender'], columns='Fintech', aggfunc= 'count')\n",
    "\n",
    "print(tabela)"
   ]
  },
  {
   "cell_type": "code",
   "execution_count": 34,
   "metadata": {},
   "outputs": [
    {
     "name": "stdout",
     "output_type": "stream",
     "text": [
      "          cluster       Count\n",
      "count  948.000000  948.000000\n",
      "mean     1.554852    1.054852\n",
      "std      0.814434    0.245654\n",
      "min      0.000000    1.000000\n",
      "25%      1.000000    1.000000\n",
      "50%      2.000000    1.000000\n",
      "75%      2.000000    1.000000\n",
      "max      4.000000    3.000000\n"
     ]
    }
   ],
   "source": [
    "estatistica = df_grupos.describe()\n",
    "\n",
    "print(estatistica)"
   ]
  }
 ],
 "metadata": {
  "kernelspec": {
   "display_name": "base",
   "language": "python",
   "name": "python3"
  },
  "language_info": {
   "codemirror_mode": {
    "name": "ipython",
    "version": 3
   },
   "file_extension": ".py",
   "mimetype": "text/x-python",
   "name": "python",
   "nbconvert_exporter": "python",
   "pygments_lexer": "ipython3",
   "version": "3.9.13"
  }
 },
 "nbformat": 4,
 "nbformat_minor": 2
}
