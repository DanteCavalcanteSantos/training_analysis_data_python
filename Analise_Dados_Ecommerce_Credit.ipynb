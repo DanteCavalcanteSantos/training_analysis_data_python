{
 "cells": [
  {
   "cell_type": "code",
   "execution_count": null,
   "metadata": {},
   "outputs": [],
   "source": [
    "#Problema de negócio!!!\n",
    "#Popularidade de fintechs por gênero\n",
    "#Quantas pessoas utilizam cartão de crédito nas compras?\n",
    "#De quais regiões os usuários estão acessando (com o auxílio de bibliotecas de geolocalização de IP)"
   ]
  },
  {
   "cell_type": "code",
   "execution_count": 2,
   "metadata": {},
   "outputs": [],
   "source": [
    "import pandas as pd\n",
    "import numpy as np\n",
    "import matplotlib.pyplot as plt\n",
    "import seaborn as sns"
   ]
  },
  {
   "cell_type": "code",
   "execution_count": 5,
   "metadata": {},
   "outputs": [],
   "source": [
    "#Carregando os dados com pandas\n",
    "dados = pd.read_csv('dados_analise_credit.csv')\n",
    "df =  pd.DataFrame(dados)"
   ]
  },
  {
   "cell_type": "code",
   "execution_count": 6,
   "metadata": {},
   "outputs": [
    {
     "name": "stdout",
     "output_type": "stream",
     "text": [
      "Index(['id', 'name', 'Credit_card', 'Valor', 'Value', 'Fintech'], dtype='object')\n"
     ]
    }
   ],
   "source": [
    "#visualizando os dados e a coluna Credit Card\n",
    "\n",
    "print(df.columns)"
   ]
  },
  {
   "cell_type": "code",
   "execution_count": 7,
   "metadata": {},
   "outputs": [
    {
     "name": "stdout",
     "output_type": "stream",
     "text": [
      "Credit_card\n",
      "mastercard    1000\n",
      "Name: count, dtype: int64\n"
     ]
    }
   ],
   "source": [
    "valor_coluna_credito = df['Credit_card'].value_counts()\n",
    "print(valor_coluna_credito)"
   ]
  },
  {
   "cell_type": "code",
   "execution_count": null,
   "metadata": {},
   "outputs": [],
   "source": [
    "'''\n",
    "Não vale apena analisar os dados por operadora de cartão, pois todas são da mastercard\n",
    "Não existe diversidades nos dados\n",
    "'''"
   ]
  }
 ],
 "metadata": {
  "kernelspec": {
   "display_name": "base",
   "language": "python",
   "name": "python3"
  },
  "language_info": {
   "codemirror_mode": {
    "name": "ipython",
    "version": 3
   },
   "file_extension": ".py",
   "mimetype": "text/x-python",
   "name": "python",
   "nbconvert_exporter": "python",
   "pygments_lexer": "ipython3",
   "version": "3.9.13"
  }
 },
 "nbformat": 4,
 "nbformat_minor": 2
}
