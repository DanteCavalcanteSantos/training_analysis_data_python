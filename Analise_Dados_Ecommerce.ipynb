{
 "cells": [
  {
   "cell_type": "code",
   "execution_count": 96,
   "metadata": {},
   "outputs": [],
   "source": [
    "#Problema de negócio!!!\n",
    "#Popularidade de fintechs por gênero\n",
    "#Quantas pessoas utilizam cartão de crédito nas compras?\n",
    "#De quais regiões os usuários estão acessando (com o auxílio de bibliotecas de geolocalização de IP)"
   ]
  },
  {
   "cell_type": "code",
   "execution_count": 97,
   "metadata": {},
   "outputs": [],
   "source": [
    "import pandas as pd\n",
    "import numpy as np\n",
    "import matplotlib.pyplot as plt\n",
    "import seaborn as sns"
   ]
  },
  {
   "cell_type": "code",
   "execution_count": 98,
   "metadata": {},
   "outputs": [],
   "source": [
    "#Carregando os dados com pandas\n",
    "dados = pd.read_csv('data.csv')\n",
    "df =  pd.DataFrame(dados)"
   ]
  },
  {
   "cell_type": "code",
   "execution_count": 99,
   "metadata": {},
   "outputs": [
    {
     "name": "stdout",
     "output_type": "stream",
     "text": [
      "id              0\n",
      "first_name      0\n",
      "last_name       0\n",
      "email           0\n",
      "gender          0\n",
      "ip_address      0\n",
      "Credit_card     0\n",
      "Salles_Value    0\n",
      "Manufacturer    0\n",
      "dtype: int64\n",
      "Index(['id', 'first_name', 'last_name', 'email', 'gender', 'ip_address',\n",
      "       'Credit_card', 'Salles_Value', 'Manufacturer'],\n",
      "      dtype='object')\n",
      "(1000, 9)\n"
     ]
    }
   ],
   "source": [
    "#Analise exploratória\n",
    "\n",
    "valores_ausentes = df.isnull().sum()\n",
    "print(valores_ausentes)\n",
    "print(df.columns)\n",
    "print(df.shape)\n"
   ]
  },
  {
   "cell_type": "code",
   "execution_count": 100,
   "metadata": {},
   "outputs": [
    {
     "name": "stdout",
     "output_type": "stream",
     "text": [
      "0      False\n",
      "1      False\n",
      "2      False\n",
      "3      False\n",
      "4      False\n",
      "       ...  \n",
      "995    False\n",
      "996    False\n",
      "997    False\n",
      "998    False\n",
      "999    False\n",
      "Length: 1000, dtype: bool\n"
     ]
    }
   ],
   "source": [
    "#Analise exploratória\n",
    "#Não existe valores duplicados\n",
    "\n",
    "valor_duplicado = df.duplicated()\n",
    "print(valor_duplicado)"
   ]
  },
  {
   "cell_type": "code",
   "execution_count": 101,
   "metadata": {},
   "outputs": [
    {
     "data": {
      "text/html": [
       "<div>\n",
       "<style scoped>\n",
       "    .dataframe tbody tr th:only-of-type {\n",
       "        vertical-align: middle;\n",
       "    }\n",
       "\n",
       "    .dataframe tbody tr th {\n",
       "        vertical-align: top;\n",
       "    }\n",
       "\n",
       "    .dataframe thead th {\n",
       "        text-align: right;\n",
       "    }\n",
       "</style>\n",
       "<table border=\"1\" class=\"dataframe\">\n",
       "  <thead>\n",
       "    <tr style=\"text-align: right;\">\n",
       "      <th></th>\n",
       "      <th>id</th>\n",
       "      <th>first_name</th>\n",
       "      <th>last_name</th>\n",
       "      <th>email</th>\n",
       "      <th>gender</th>\n",
       "      <th>ip_address</th>\n",
       "      <th>Credit_card</th>\n",
       "      <th>Salles_Value</th>\n",
       "      <th>Manufacturer</th>\n",
       "    </tr>\n",
       "  </thead>\n",
       "  <tbody>\n",
       "    <tr>\n",
       "      <th>0</th>\n",
       "      <td>1</td>\n",
       "      <td>Corey</td>\n",
       "      <td>Westpfel</td>\n",
       "      <td>cwestpfel0@aboutads.info</td>\n",
       "      <td>Male</td>\n",
       "      <td>113.103.0.13</td>\n",
       "      <td>mastercard</td>\n",
       "      <td>$927.99</td>\n",
       "      <td>IES Holdings, Inc.</td>\n",
       "    </tr>\n",
       "    <tr>\n",
       "      <th>1</th>\n",
       "      <td>2</td>\n",
       "      <td>Aloysius</td>\n",
       "      <td>Hurle</td>\n",
       "      <td>ahurle1@artisteer.com</td>\n",
       "      <td>Bigender</td>\n",
       "      <td>206.43.60.209</td>\n",
       "      <td>mastercard</td>\n",
       "      <td>$305.92</td>\n",
       "      <td>ASML Holding N.V.</td>\n",
       "    </tr>\n",
       "    <tr>\n",
       "      <th>2</th>\n",
       "      <td>3</td>\n",
       "      <td>Ines</td>\n",
       "      <td>Bodiam</td>\n",
       "      <td>ibodiam2@goodreads.com</td>\n",
       "      <td>Female</td>\n",
       "      <td>69.172.221.168</td>\n",
       "      <td>mastercard</td>\n",
       "      <td>$175.40</td>\n",
       "      <td>NovoCure Limited</td>\n",
       "    </tr>\n",
       "    <tr>\n",
       "      <th>3</th>\n",
       "      <td>4</td>\n",
       "      <td>Helga</td>\n",
       "      <td>Antoniazzi</td>\n",
       "      <td>hantoniazzi3@1und1.de</td>\n",
       "      <td>Female</td>\n",
       "      <td>210.43.66.170</td>\n",
       "      <td>mastercard</td>\n",
       "      <td>$305.80</td>\n",
       "      <td>Lindblad Expeditions Holdings Inc.</td>\n",
       "    </tr>\n",
       "    <tr>\n",
       "      <th>4</th>\n",
       "      <td>5</td>\n",
       "      <td>Westley</td>\n",
       "      <td>Rives</td>\n",
       "      <td>wrives4@hatena.ne.jp</td>\n",
       "      <td>Male</td>\n",
       "      <td>3.166.143.45</td>\n",
       "      <td>mastercard</td>\n",
       "      <td>$40.58</td>\n",
       "      <td>Blackrock MuniHoldings New York Quality Fund, ...</td>\n",
       "    </tr>\n",
       "  </tbody>\n",
       "</table>\n",
       "</div>"
      ],
      "text/plain": [
       "   id first_name   last_name                     email    gender  \\\n",
       "0   1      Corey    Westpfel  cwestpfel0@aboutads.info      Male   \n",
       "1   2   Aloysius       Hurle     ahurle1@artisteer.com  Bigender   \n",
       "2   3       Ines      Bodiam    ibodiam2@goodreads.com    Female   \n",
       "3   4      Helga  Antoniazzi     hantoniazzi3@1und1.de    Female   \n",
       "4   5    Westley       Rives      wrives4@hatena.ne.jp      Male   \n",
       "\n",
       "       ip_address Credit_card Salles_Value  \\\n",
       "0    113.103.0.13  mastercard      $927.99   \n",
       "1   206.43.60.209  mastercard      $305.92   \n",
       "2  69.172.221.168  mastercard      $175.40   \n",
       "3   210.43.66.170  mastercard      $305.80   \n",
       "4    3.166.143.45  mastercard       $40.58   \n",
       "\n",
       "                                        Manufacturer  \n",
       "0                                 IES Holdings, Inc.  \n",
       "1                                  ASML Holding N.V.  \n",
       "2                                   NovoCure Limited  \n",
       "3                Lindblad Expeditions Holdings Inc.   \n",
       "4  Blackrock MuniHoldings New York Quality Fund, ...  "
      ]
     },
     "execution_count": 101,
     "metadata": {},
     "output_type": "execute_result"
    }
   ],
   "source": [
    "#Visualização dos dados\n",
    "df.head(5)"
   ]
  },
  {
   "cell_type": "code",
   "execution_count": 102,
   "metadata": {},
   "outputs": [
    {
     "data": {
      "text/html": [
       "<div>\n",
       "<style scoped>\n",
       "    .dataframe tbody tr th:only-of-type {\n",
       "        vertical-align: middle;\n",
       "    }\n",
       "\n",
       "    .dataframe tbody tr th {\n",
       "        vertical-align: top;\n",
       "    }\n",
       "\n",
       "    .dataframe thead th {\n",
       "        text-align: right;\n",
       "    }\n",
       "</style>\n",
       "<table border=\"1\" class=\"dataframe\">\n",
       "  <thead>\n",
       "    <tr style=\"text-align: right;\">\n",
       "      <th></th>\n",
       "      <th>id</th>\n",
       "      <th>email</th>\n",
       "      <th>gender</th>\n",
       "      <th>ip_address</th>\n",
       "      <th>Credit_card</th>\n",
       "      <th>Salles_Value</th>\n",
       "      <th>Manufacturer</th>\n",
       "      <th>name</th>\n",
       "    </tr>\n",
       "  </thead>\n",
       "  <tbody>\n",
       "    <tr>\n",
       "      <th>0</th>\n",
       "      <td>1</td>\n",
       "      <td>cwestpfel0@aboutads.info</td>\n",
       "      <td>Male</td>\n",
       "      <td>113.103.0.13</td>\n",
       "      <td>mastercard</td>\n",
       "      <td>$927.99</td>\n",
       "      <td>IES Holdings, Inc.</td>\n",
       "      <td>Corey Westpfel</td>\n",
       "    </tr>\n",
       "    <tr>\n",
       "      <th>1</th>\n",
       "      <td>2</td>\n",
       "      <td>ahurle1@artisteer.com</td>\n",
       "      <td>Bigender</td>\n",
       "      <td>206.43.60.209</td>\n",
       "      <td>mastercard</td>\n",
       "      <td>$305.92</td>\n",
       "      <td>ASML Holding N.V.</td>\n",
       "      <td>Aloysius Hurle</td>\n",
       "    </tr>\n",
       "    <tr>\n",
       "      <th>2</th>\n",
       "      <td>3</td>\n",
       "      <td>ibodiam2@goodreads.com</td>\n",
       "      <td>Female</td>\n",
       "      <td>69.172.221.168</td>\n",
       "      <td>mastercard</td>\n",
       "      <td>$175.40</td>\n",
       "      <td>NovoCure Limited</td>\n",
       "      <td>Ines Bodiam</td>\n",
       "    </tr>\n",
       "  </tbody>\n",
       "</table>\n",
       "</div>"
      ],
      "text/plain": [
       "   id                     email    gender      ip_address Credit_card  \\\n",
       "0   1  cwestpfel0@aboutads.info      Male    113.103.0.13  mastercard   \n",
       "1   2     ahurle1@artisteer.com  Bigender   206.43.60.209  mastercard   \n",
       "2   3    ibodiam2@goodreads.com    Female  69.172.221.168  mastercard   \n",
       "\n",
       "  Salles_Value        Manufacturer            name  \n",
       "0      $927.99  IES Holdings, Inc.  Corey Westpfel  \n",
       "1      $305.92   ASML Holding N.V.  Aloysius Hurle  \n",
       "2      $175.40    NovoCure Limited     Ines Bodiam  "
      ]
     },
     "execution_count": 102,
     "metadata": {},
     "output_type": "execute_result"
    }
   ],
   "source": [
    "# Concatenei a coluna nome e sobrenome, deixando apenas em uma coluna com rotulo Name\n",
    "df['name'] = df['first_name'].str.cat(df['last_name'], sep=' ')\n",
    "df = df.drop(['first_name', 'last_name'], axis=1)\n",
    "df.head(3)\n"
   ]
  },
  {
   "cell_type": "code",
   "execution_count": 103,
   "metadata": {},
   "outputs": [
    {
     "name": "stdout",
     "output_type": "stream",
     "text": [
      "Index(['id', 'name', 'email', 'gender', 'ip_address', 'Credit_card',\n",
      "       'Salles_Value', 'Manufacturer'],\n",
      "      dtype='object')\n"
     ]
    }
   ],
   "source": [
    "#Reordenei as colunas\n",
    "df = df[['id','name', 'email', 'gender', 'ip_address', 'Credit_card', 'Salles_Value',\n",
    "       'Manufacturer']]\n",
    "print(df.columns)"
   ]
  },
  {
   "cell_type": "code",
   "execution_count": 104,
   "metadata": {},
   "outputs": [
    {
     "name": "stdout",
     "output_type": "stream",
     "text": [
      "Index(['id', 'name', 'email', 'gender', 'ip_address', 'Credit_card', 'Value',\n",
      "       'Fintech'],\n",
      "      dtype='object')\n"
     ]
    }
   ],
   "source": [
    "#renomeando a coluna\n",
    "df.rename(columns={'Manufacturer': 'Fintech'}, inplace=True)\n",
    "df.rename(columns={'Salles_Value': 'Value'}, inplace=True)\n",
    "print(df.columns)"
   ]
  },
  {
   "cell_type": "code",
   "execution_count": 105,
   "metadata": {},
   "outputs": [
    {
     "name": "stdout",
     "output_type": "stream",
     "text": [
      "gender\n",
      "Female         456\n",
      "Male           446\n",
      "Bigender        23\n",
      "Agender         20\n",
      "Genderfluid     18\n",
      "Polygender      13\n",
      "Genderqueer     12\n",
      "Non-binary      12\n",
      "Name: count, dtype: int64\n"
     ]
    }
   ],
   "source": [
    "#Popularidade de fintechs por gênero\n",
    "#verificando a frequencia de valores em Fintech\n",
    "print(df['gender'].value_counts())\n",
    "\n"
   ]
  },
  {
   "cell_type": "code",
   "execution_count": 106,
   "metadata": {},
   "outputs": [
    {
     "name": "stdout",
     "output_type": "stream",
     "text": [
      "--------Fintechs-----------\n",
      "Fintech\n",
      "Capital One Financial Corporation     4\n",
      "J P Morgan Chase & Co                 3\n",
      "Summit Hotel Properties, Inc.         3\n",
      "ING Group, N.V.                       3\n",
      "ASML Holding N.V.                     3\n",
      "                                     ..\n",
      "Triangle Capital Corporation          1\n",
      "PFSweb, Inc.                          1\n",
      "Esterline Technologies Corporation    1\n",
      "Ramaco Resources, Inc.                1\n",
      "Digiliti Money Group, Inc.            1\n",
      "Name: count, Length: 896, dtype: int64\n"
     ]
    }
   ],
   "source": [
    "#Popularidade de fintechs por gênero\n",
    "#verificando a frequencia de valores em Fintech\n",
    "print('--------Fintechs-----------')\n",
    "print(df['Fintech'].value_counts())"
   ]
  },
  {
   "cell_type": "code",
   "execution_count": 107,
   "metadata": {},
   "outputs": [
    {
     "name": "stdout",
     "output_type": "stream",
     "text": [
      "0      0.001\n",
      "1      0.003\n",
      "2      0.001\n",
      "3      0.002\n",
      "4      0.001\n",
      "       ...  \n",
      "995    0.002\n",
      "996    0.001\n",
      "997    0.002\n",
      "998    0.001\n",
      "999    0.001\n",
      "Name: Fintech_weight, Length: 1000, dtype: float64\n",
      "(1000, 1)\n"
     ]
    }
   ],
   "source": [
    "#Padronizando para o clustering\n",
    "\n",
    "frequencia_fintech =  df['Fintech'].value_counts(normalize=True)\n",
    "fintech_peso = frequencia_fintech.to_dict()\n",
    "\n",
    "df['Fintech_weight'] = df['Fintech'].map(fintech_peso)\n",
    " \n",
    "print(df['Fintech_weight'])\n",
    "\n",
    "x_fintech = np.array(df['Fintech_weight'])\n",
    "x = x_fintech.reshape(-1,1)\n",
    "\n",
    "print(x.shape)"
   ]
  },
  {
   "cell_type": "code",
   "execution_count": 108,
   "metadata": {},
   "outputs": [
    {
     "name": "stdout",
     "output_type": "stream",
     "text": [
      "(1000, 1)\n"
     ]
    }
   ],
   "source": [
    "#Padronizando para o clustering\n",
    "\n",
    "#verifica quantas vezes aparece os valores\n",
    "frequencia_gender =  df['gender'].value_counts(normalize=True)\n",
    "gender_peso = frequencia_gender.to_dict()\n",
    "\n",
    "df['gender_weight'] = df['gender'].map(gender_peso)\n",
    "\n",
    "y_gender = np.array(df['gender_weight'])\n",
    "y = y_gender.reshape(-1,1)\n",
    "\n",
    "print(y.shape)"
   ]
  },
  {
   "cell_type": "code",
   "execution_count": 109,
   "metadata": {},
   "outputs": [],
   "source": [
    "#pacotes para utilização do clustering\n",
    "from sklearn.cluster import KMeans\n",
    "from sklearn.preprocessing import StandardScaler\n",
    "from sklearn.preprocessing import OneHotEncoder"
   ]
  },
  {
   "cell_type": "code",
   "execution_count": 110,
   "metadata": {},
   "outputs": [],
   "source": [
    "#Como são Dados Categoricos, é necessário fazer a transformação para dados numéricos"
   ]
  },
  {
   "cell_type": "code",
   "execution_count": 111,
   "metadata": {},
   "outputs": [
    {
     "name": "stdout",
     "output_type": "stream",
     "text": [
      "[[1. 0. 0. ... 0. 1. 0.]\n",
      " [0. 0. 1. ... 1. 0. 0.]\n",
      " [1. 0. 0. ... 0. 0. 1.]\n",
      " ...\n",
      " [0. 1. 0. ... 0. 0. 1.]\n",
      " [1. 0. 0. ... 0. 1. 0.]\n",
      " [1. 0. 0. ... 0. 1. 0.]]\n"
     ]
    }
   ],
   "source": [
    "#usando clustering para analizar a coluna\n",
    "\n",
    "ohe = OneHotEncoder()\n",
    "\n",
    "\n",
    "#precisa transformar em um array para poder concatenar \n",
    "fintech_ohe = ohe.fit_transform(x).toarray()\n",
    "gender_ohe = ohe.fit_transform(y).toarray()\n",
    "\n",
    "data_enconded = np.concatenate((fintech_ohe, gender_ohe), axis=1)\n",
    "\n",
    "print(data_enconded)\n"
   ]
  },
  {
   "cell_type": "code",
   "execution_count": 112,
   "metadata": {},
   "outputs": [
    {
     "name": "stdout",
     "output_type": "stream",
     "text": [
      "   id              name                     email    gender      ip_address  \\\n",
      "0   1    Corey Westpfel  cwestpfel0@aboutads.info      Male    113.103.0.13   \n",
      "1   2    Aloysius Hurle     ahurle1@artisteer.com  Bigender   206.43.60.209   \n",
      "2   3       Ines Bodiam    ibodiam2@goodreads.com    Female  69.172.221.168   \n",
      "3   4  Helga Antoniazzi     hantoniazzi3@1und1.de    Female   210.43.66.170   \n",
      "4   5     Westley Rives      wrives4@hatena.ne.jp      Male    3.166.143.45   \n",
      "\n",
      "  Credit_card    Value                                            Fintech  \\\n",
      "0  mastercard  $927.99                                 IES Holdings, Inc.   \n",
      "1  mastercard  $305.92                                  ASML Holding N.V.   \n",
      "2  mastercard  $175.40                                   NovoCure Limited   \n",
      "3  mastercard  $305.80                Lindblad Expeditions Holdings Inc.    \n",
      "4  mastercard   $40.58  Blackrock MuniHoldings New York Quality Fund, ...   \n",
      "\n",
      "   Fintech_weight  gender_weight  cluster  \n",
      "0           0.001          0.446        1  \n",
      "1           0.003          0.023        4  \n",
      "2           0.001          0.456        0  \n",
      "3           0.002          0.456        3  \n",
      "4           0.001          0.446        1  \n"
     ]
    }
   ],
   "source": [
    "# usando KMeans\n",
    "\n",
    "#criando um modelo Kemeans\n",
    "k = 5\n",
    "\n",
    "kmeans = KMeans(n_clusters= k)\n",
    "\n",
    "df['cluster'] = kmeans.fit_predict(data_enconded)\n",
    "\n",
    "print(df.head(5))"
   ]
  }
 ],
 "metadata": {
  "kernelspec": {
   "display_name": "base",
   "language": "python",
   "name": "python3"
  },
  "language_info": {
   "codemirror_mode": {
    "name": "ipython",
    "version": 3
   },
   "file_extension": ".py",
   "mimetype": "text/x-python",
   "name": "python",
   "nbconvert_exporter": "python",
   "pygments_lexer": "ipython3",
   "version": "3.9.13"
  }
 },
 "nbformat": 4,
 "nbformat_minor": 2
}
