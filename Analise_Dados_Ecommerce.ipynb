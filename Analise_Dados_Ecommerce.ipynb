{
 "cells": [
  {
   "cell_type": "code",
   "execution_count": 33,
   "metadata": {},
   "outputs": [],
   "source": [
    "#Problema de negócio!!!\n",
    "#Popularidade de fintechs por gênero\n",
    "#Quantas pessoas utilizam cartão de crédito nas compras?\n",
    "#De quais regiões os usuários estão acessando (com o auxílio de bibliotecas de geolocalização de IP)"
   ]
  },
  {
   "cell_type": "code",
   "execution_count": 34,
   "metadata": {},
   "outputs": [],
   "source": [
    "import pandas as pd\n",
    "import numpy as np\n",
    "import matplotlib.pyplot as plt\n",
    "import seaborn as sns"
   ]
  },
  {
   "cell_type": "code",
   "execution_count": 35,
   "metadata": {},
   "outputs": [],
   "source": [
    "#Carregando os dados com pandas\n",
    "dados = pd.read_csv('data.csv')\n",
    "df =  pd.DataFrame(dados)"
   ]
  },
  {
   "cell_type": "code",
   "execution_count": 36,
   "metadata": {},
   "outputs": [
    {
     "name": "stdout",
     "output_type": "stream",
     "text": [
      "id              0\n",
      "first_name      0\n",
      "last_name       0\n",
      "email           0\n",
      "gender          0\n",
      "ip_address      0\n",
      "Credit_card     0\n",
      "Salles_Value    0\n",
      "Manufacturer    0\n",
      "dtype: int64\n",
      "Index(['id', 'first_name', 'last_name', 'email', 'gender', 'ip_address',\n",
      "       'Credit_card', 'Salles_Value', 'Manufacturer'],\n",
      "      dtype='object')\n",
      "(1000, 9)\n"
     ]
    }
   ],
   "source": [
    "#Analise exploratória\n",
    "\n",
    "valores_ausentes = dados.isnull().sum()\n",
    "print(valores_ausentes)\n",
    "#sem valores ausentes\n",
    "print(df.columns)\n",
    "print(df.shape)\n"
   ]
  },
  {
   "cell_type": "code",
   "execution_count": 37,
   "metadata": {},
   "outputs": [
    {
     "data": {
      "text/html": [
       "<div>\n",
       "<style scoped>\n",
       "    .dataframe tbody tr th:only-of-type {\n",
       "        vertical-align: middle;\n",
       "    }\n",
       "\n",
       "    .dataframe tbody tr th {\n",
       "        vertical-align: top;\n",
       "    }\n",
       "\n",
       "    .dataframe thead th {\n",
       "        text-align: right;\n",
       "    }\n",
       "</style>\n",
       "<table border=\"1\" class=\"dataframe\">\n",
       "  <thead>\n",
       "    <tr style=\"text-align: right;\">\n",
       "      <th></th>\n",
       "      <th>id</th>\n",
       "      <th>first_name</th>\n",
       "      <th>last_name</th>\n",
       "      <th>email</th>\n",
       "      <th>gender</th>\n",
       "      <th>ip_address</th>\n",
       "      <th>Credit_card</th>\n",
       "      <th>Salles_Value</th>\n",
       "      <th>Manufacturer</th>\n",
       "    </tr>\n",
       "  </thead>\n",
       "  <tbody>\n",
       "    <tr>\n",
       "      <th>0</th>\n",
       "      <td>1</td>\n",
       "      <td>Corey</td>\n",
       "      <td>Westpfel</td>\n",
       "      <td>cwestpfel0@aboutads.info</td>\n",
       "      <td>Male</td>\n",
       "      <td>113.103.0.13</td>\n",
       "      <td>mastercard</td>\n",
       "      <td>$927.99</td>\n",
       "      <td>IES Holdings, Inc.</td>\n",
       "    </tr>\n",
       "    <tr>\n",
       "      <th>1</th>\n",
       "      <td>2</td>\n",
       "      <td>Aloysius</td>\n",
       "      <td>Hurle</td>\n",
       "      <td>ahurle1@artisteer.com</td>\n",
       "      <td>Bigender</td>\n",
       "      <td>206.43.60.209</td>\n",
       "      <td>mastercard</td>\n",
       "      <td>$305.92</td>\n",
       "      <td>ASML Holding N.V.</td>\n",
       "    </tr>\n",
       "    <tr>\n",
       "      <th>2</th>\n",
       "      <td>3</td>\n",
       "      <td>Ines</td>\n",
       "      <td>Bodiam</td>\n",
       "      <td>ibodiam2@goodreads.com</td>\n",
       "      <td>Female</td>\n",
       "      <td>69.172.221.168</td>\n",
       "      <td>mastercard</td>\n",
       "      <td>$175.40</td>\n",
       "      <td>NovoCure Limited</td>\n",
       "    </tr>\n",
       "    <tr>\n",
       "      <th>3</th>\n",
       "      <td>4</td>\n",
       "      <td>Helga</td>\n",
       "      <td>Antoniazzi</td>\n",
       "      <td>hantoniazzi3@1und1.de</td>\n",
       "      <td>Female</td>\n",
       "      <td>210.43.66.170</td>\n",
       "      <td>mastercard</td>\n",
       "      <td>$305.80</td>\n",
       "      <td>Lindblad Expeditions Holdings Inc.</td>\n",
       "    </tr>\n",
       "    <tr>\n",
       "      <th>4</th>\n",
       "      <td>5</td>\n",
       "      <td>Westley</td>\n",
       "      <td>Rives</td>\n",
       "      <td>wrives4@hatena.ne.jp</td>\n",
       "      <td>Male</td>\n",
       "      <td>3.166.143.45</td>\n",
       "      <td>mastercard</td>\n",
       "      <td>$40.58</td>\n",
       "      <td>Blackrock MuniHoldings New York Quality Fund, ...</td>\n",
       "    </tr>\n",
       "  </tbody>\n",
       "</table>\n",
       "</div>"
      ],
      "text/plain": [
       "   id first_name   last_name                     email    gender  \\\n",
       "0   1      Corey    Westpfel  cwestpfel0@aboutads.info      Male   \n",
       "1   2   Aloysius       Hurle     ahurle1@artisteer.com  Bigender   \n",
       "2   3       Ines      Bodiam    ibodiam2@goodreads.com    Female   \n",
       "3   4      Helga  Antoniazzi     hantoniazzi3@1und1.de    Female   \n",
       "4   5    Westley       Rives      wrives4@hatena.ne.jp      Male   \n",
       "\n",
       "       ip_address Credit_card Salles_Value  \\\n",
       "0    113.103.0.13  mastercard      $927.99   \n",
       "1   206.43.60.209  mastercard      $305.92   \n",
       "2  69.172.221.168  mastercard      $175.40   \n",
       "3   210.43.66.170  mastercard      $305.80   \n",
       "4    3.166.143.45  mastercard       $40.58   \n",
       "\n",
       "                                        Manufacturer  \n",
       "0                                 IES Holdings, Inc.  \n",
       "1                                  ASML Holding N.V.  \n",
       "2                                   NovoCure Limited  \n",
       "3                Lindblad Expeditions Holdings Inc.   \n",
       "4  Blackrock MuniHoldings New York Quality Fund, ...  "
      ]
     },
     "execution_count": 37,
     "metadata": {},
     "output_type": "execute_result"
    }
   ],
   "source": [
    "df.head(5)"
   ]
  },
  {
   "cell_type": "code",
   "execution_count": 38,
   "metadata": {},
   "outputs": [
    {
     "data": {
      "text/html": [
       "<div>\n",
       "<style scoped>\n",
       "    .dataframe tbody tr th:only-of-type {\n",
       "        vertical-align: middle;\n",
       "    }\n",
       "\n",
       "    .dataframe tbody tr th {\n",
       "        vertical-align: top;\n",
       "    }\n",
       "\n",
       "    .dataframe thead th {\n",
       "        text-align: right;\n",
       "    }\n",
       "</style>\n",
       "<table border=\"1\" class=\"dataframe\">\n",
       "  <thead>\n",
       "    <tr style=\"text-align: right;\">\n",
       "      <th></th>\n",
       "      <th>id</th>\n",
       "      <th>email</th>\n",
       "      <th>gender</th>\n",
       "      <th>ip_address</th>\n",
       "      <th>Credit_card</th>\n",
       "      <th>Salles_Value</th>\n",
       "      <th>Manufacturer</th>\n",
       "      <th>name</th>\n",
       "    </tr>\n",
       "  </thead>\n",
       "  <tbody>\n",
       "    <tr>\n",
       "      <th>0</th>\n",
       "      <td>1</td>\n",
       "      <td>cwestpfel0@aboutads.info</td>\n",
       "      <td>Male</td>\n",
       "      <td>113.103.0.13</td>\n",
       "      <td>mastercard</td>\n",
       "      <td>$927.99</td>\n",
       "      <td>IES Holdings, Inc.</td>\n",
       "      <td>Corey Westpfel</td>\n",
       "    </tr>\n",
       "    <tr>\n",
       "      <th>1</th>\n",
       "      <td>2</td>\n",
       "      <td>ahurle1@artisteer.com</td>\n",
       "      <td>Bigender</td>\n",
       "      <td>206.43.60.209</td>\n",
       "      <td>mastercard</td>\n",
       "      <td>$305.92</td>\n",
       "      <td>ASML Holding N.V.</td>\n",
       "      <td>Aloysius Hurle</td>\n",
       "    </tr>\n",
       "    <tr>\n",
       "      <th>2</th>\n",
       "      <td>3</td>\n",
       "      <td>ibodiam2@goodreads.com</td>\n",
       "      <td>Female</td>\n",
       "      <td>69.172.221.168</td>\n",
       "      <td>mastercard</td>\n",
       "      <td>$175.40</td>\n",
       "      <td>NovoCure Limited</td>\n",
       "      <td>Ines Bodiam</td>\n",
       "    </tr>\n",
       "  </tbody>\n",
       "</table>\n",
       "</div>"
      ],
      "text/plain": [
       "   id                     email    gender      ip_address Credit_card  \\\n",
       "0   1  cwestpfel0@aboutads.info      Male    113.103.0.13  mastercard   \n",
       "1   2     ahurle1@artisteer.com  Bigender   206.43.60.209  mastercard   \n",
       "2   3    ibodiam2@goodreads.com    Female  69.172.221.168  mastercard   \n",
       "\n",
       "  Salles_Value        Manufacturer            name  \n",
       "0      $927.99  IES Holdings, Inc.  Corey Westpfel  \n",
       "1      $305.92   ASML Holding N.V.  Aloysius Hurle  \n",
       "2      $175.40    NovoCure Limited     Ines Bodiam  "
      ]
     },
     "execution_count": 38,
     "metadata": {},
     "output_type": "execute_result"
    }
   ],
   "source": [
    "# Concatenei a coluna nome e sobrenome, deixando apenas em uma coluna com rotulo Nome\n",
    "df['name'] = df['first_name'].str.cat(df['last_name'], sep=' ')\n",
    "df = df.drop(['first_name', 'last_name'], axis=1)\n",
    "df.head(3)\n"
   ]
  },
  {
   "cell_type": "code",
   "execution_count": 39,
   "metadata": {},
   "outputs": [
    {
     "name": "stdout",
     "output_type": "stream",
     "text": [
      "Index(['id', 'name', 'email', 'gender', 'ip_address', 'Credit_card',\n",
      "       'Salles_Value', 'Manufacturer'],\n",
      "      dtype='object')\n"
     ]
    }
   ],
   "source": [
    "#Reordenei as colunas\n",
    "df = df[['id','name', 'email', 'gender', 'ip_address', 'Credit_card', 'Salles_Value',\n",
    "       'Manufacturer']]\n",
    "print(df.columns)"
   ]
  },
  {
   "cell_type": "code",
   "execution_count": 40,
   "metadata": {},
   "outputs": [
    {
     "name": "stdout",
     "output_type": "stream",
     "text": [
      "Index(['id', 'name', 'email', 'gender', 'ip_address', 'Credit_card', 'Value',\n",
      "       'Fintech'],\n",
      "      dtype='object')\n"
     ]
    }
   ],
   "source": [
    "#renomeando a coluna\n",
    "df.rename(columns={'Manufacturer': 'Fintech'}, inplace=True)\n",
    "df.rename(columns={'Salles_Value': 'Value'}, inplace=True)\n",
    "print(df.columns)"
   ]
  },
  {
   "cell_type": "code",
   "execution_count": 41,
   "metadata": {},
   "outputs": [
    {
     "name": "stdout",
     "output_type": "stream",
     "text": [
      "gender\n",
      "Female         456\n",
      "Male           446\n",
      "Bigender        23\n",
      "Agender         20\n",
      "Genderfluid     18\n",
      "Polygender      13\n",
      "Genderqueer     12\n",
      "Non-binary      12\n",
      "Name: count, dtype: int64\n",
      "--------Fintechs-----------\n"
     ]
    },
    {
     "data": {
      "text/plain": [
       "Fintech\n",
       "Capital One Financial Corporation     4\n",
       "J P Morgan Chase & Co                 3\n",
       "Summit Hotel Properties, Inc.         3\n",
       "ING Group, N.V.                       3\n",
       "ASML Holding N.V.                     3\n",
       "                                     ..\n",
       "Triangle Capital Corporation          1\n",
       "PFSweb, Inc.                          1\n",
       "Esterline Technologies Corporation    1\n",
       "Ramaco Resources, Inc.                1\n",
       "Digiliti Money Group, Inc.            1\n",
       "Name: count, Length: 896, dtype: int64"
      ]
     },
     "execution_count": 41,
     "metadata": {},
     "output_type": "execute_result"
    }
   ],
   "source": [
    "#Popularidade de fintechs por gênero\n",
    "#aqui contei a frequencia de cada um dos generos\n",
    "print(df['gender'].value_counts())\n",
    "#verificando a frequencia dos fabricantes\n",
    "print('--------Fintechs-----------')\n",
    "df['Fintech'].value_counts()"
   ]
  },
  {
   "cell_type": "code",
   "execution_count": 42,
   "metadata": {},
   "outputs": [],
   "source": [
    "#Usando o plotly tutorial\n",
    "from dash import Dash, html, dash_table, dcc\n",
    "import plotly.express as px"
   ]
  },
  {
   "cell_type": "code",
   "execution_count": 46,
   "metadata": {},
   "outputs": [
    {
     "data": {
      "text/html": [
       "\n",
       "        <iframe\n",
       "            width=\"100%\"\n",
       "            height=\"650\"\n",
       "            src=\"http://127.0.0.1:8050/\"\n",
       "            frameborder=\"0\"\n",
       "            allowfullscreen\n",
       "            \n",
       "        ></iframe>\n",
       "        "
      ],
      "text/plain": [
       "<IPython.lib.display.IFrame at 0x1dd1cc0fbe0>"
      ]
     },
     "metadata": {},
     "output_type": "display_data"
    }
   ],
   "source": [
    "from dash import Dash, html\n",
    "\n",
    "app = Dash()\n",
    "\n",
    "app.layout =  [\n",
    "    html.Div(children= \"Meu primero app com data\"),\n",
    "    dash_table.DataTable(data=df.to_dict('records'), page_size=10),\n",
    "    dcc.Graph(figure=px.histogram(df, x='Fintech', y='gender', histfunc='avg'))\n",
    "]\n",
    "\n",
    "if __name__ == '__main__':\n",
    "    app.run(debug=True)\n"
   ]
  }
 ],
 "metadata": {
  "kernelspec": {
   "display_name": "base",
   "language": "python",
   "name": "python3"
  },
  "language_info": {
   "codemirror_mode": {
    "name": "ipython",
    "version": 3
   },
   "file_extension": ".py",
   "mimetype": "text/x-python",
   "name": "python",
   "nbconvert_exporter": "python",
   "pygments_lexer": "ipython3",
   "version": "3.9.13"
  }
 },
 "nbformat": 4,
 "nbformat_minor": 2
}
