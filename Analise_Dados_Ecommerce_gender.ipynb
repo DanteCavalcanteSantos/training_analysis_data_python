{
 "cells": [
  {
   "cell_type": "code",
   "execution_count": 42,
   "metadata": {},
   "outputs": [],
   "source": [
    "#Problema de negócio!!!\n",
    "#Popularidade de fintechs por gênero\n",
    "#Quantas pessoas utilizam cartão de crédito nas compras?\n",
    "#De quais regiões os usuários estão acessando (com o auxílio de bibliotecas de geolocalização de IP)"
   ]
  },
  {
   "cell_type": "code",
   "execution_count": 43,
   "metadata": {},
   "outputs": [],
   "source": [
    "import pandas as pd\n",
    "import numpy as np\n",
    "import matplotlib.pyplot as plt\n",
    "import seaborn as sns"
   ]
  },
  {
   "cell_type": "code",
   "execution_count": 44,
   "metadata": {},
   "outputs": [],
   "source": [
    "#Carregando os dados com pandas\n",
    "dados = pd.read_csv('data.csv')\n",
    "df =  pd.DataFrame(dados)"
   ]
  },
  {
   "cell_type": "code",
   "execution_count": null,
   "metadata": {},
   "outputs": [],
   "source": [
    "#Analise exploratória\n",
    "\n",
    "valores_ausentes = df.isnull().sum()\n",
    "print(valores_ausentes)\n",
    "print(df.columns)\n",
    "print(df.shape)\n"
   ]
  },
  {
   "cell_type": "code",
   "execution_count": null,
   "metadata": {},
   "outputs": [],
   "source": [
    "#Analise exploratória\n",
    "#Não existe valores duplicados\n",
    "\n",
    "valor_duplicado = df.duplicated()\n",
    "print(valor_duplicado)"
   ]
  },
  {
   "cell_type": "code",
   "execution_count": null,
   "metadata": {},
   "outputs": [],
   "source": [
    "#Visualização dos dados\n",
    "df.head(5)"
   ]
  },
  {
   "cell_type": "code",
   "execution_count": null,
   "metadata": {},
   "outputs": [],
   "source": [
    "# Concatenei a coluna nome e sobrenome, deixando apenas em uma coluna com rotulo Name\n",
    "df['name'] = df['first_name'].str.cat(df['last_name'], sep=' ')\n",
    "df = df.drop(['first_name', 'last_name'], axis=1)\n",
    "df.head(3)\n"
   ]
  },
  {
   "cell_type": "code",
   "execution_count": null,
   "metadata": {},
   "outputs": [],
   "source": [
    "#Reordenei as colunas\n",
    "df = df[['id','name', 'email', 'gender', 'ip_address', 'Credit_card', 'Salles_Value',\n",
    "       'Manufacturer']]\n",
    "print(df.columns)"
   ]
  },
  {
   "cell_type": "code",
   "execution_count": null,
   "metadata": {},
   "outputs": [],
   "source": [
    "#renomeando a coluna\n",
    "df.rename(columns={'Manufacturer': 'Fintech'}, inplace=True)\n",
    "df.rename(columns={'Salles_Value': 'Value'}, inplace=True)\n",
    "print(df.columns)"
   ]
  },
  {
   "cell_type": "code",
   "execution_count": null,
   "metadata": {},
   "outputs": [],
   "source": [
    "#Popularidade de fintechs por gênero\n",
    "#verificando a frequencia de valores em Fintech\n",
    "print(df['gender'].value_counts())\n",
    "\n"
   ]
  },
  {
   "cell_type": "code",
   "execution_count": null,
   "metadata": {},
   "outputs": [],
   "source": [
    "#Popularidade de fintechs por gênero\n",
    "#verificando a frequencia de valores em Fintech\n",
    "print('--------Fintechs-----------')\n",
    "print(df['Fintech'].value_counts())"
   ]
  },
  {
   "cell_type": "code",
   "execution_count": null,
   "metadata": {},
   "outputs": [],
   "source": [
    "#Padronizando para o clustering\n",
    "\n",
    "frequencia_fintech =  df['Fintech'].value_counts(normalize=True)\n",
    "fintech_peso = frequencia_fintech.to_dict()\n",
    "\n",
    "df['Fintech_weight'] = df['Fintech'].map(fintech_peso)\n",
    " \n",
    "print(df['Fintech_weight'])\n",
    "\n",
    "x_fintech = np.array(df['Fintech_weight'])\n",
    "x = x_fintech.reshape(-1,1)\n",
    "\n",
    "print(x.shape)"
   ]
  },
  {
   "cell_type": "code",
   "execution_count": null,
   "metadata": {},
   "outputs": [],
   "source": [
    "#Padronizando para o clustering\n",
    "\n",
    "#verifica quantas vezes aparece os valores\n",
    "frequencia_gender =  df['gender'].value_counts(normalize=True)\n",
    "gender_peso = frequencia_gender.to_dict()\n",
    "\n",
    "df['gender_weight'] = df['gender'].map(gender_peso)\n",
    "\n",
    "y_gender = np.array(df['gender_weight'])\n",
    "y = y_gender.reshape(-1,1)\n",
    "\n",
    "print(y.shape)"
   ]
  },
  {
   "cell_type": "code",
   "execution_count": 55,
   "metadata": {},
   "outputs": [],
   "source": [
    "#pacotes para utilização do clustering\n",
    "from sklearn.cluster import KMeans\n",
    "from sklearn.preprocessing import StandardScaler\n",
    "from sklearn.preprocessing import OneHotEncoder"
   ]
  },
  {
   "cell_type": "code",
   "execution_count": 56,
   "metadata": {},
   "outputs": [],
   "source": [
    "#Como são Dados Categoricos, é necessário fazer a transformação para dados numéricos"
   ]
  },
  {
   "cell_type": "code",
   "execution_count": null,
   "metadata": {},
   "outputs": [],
   "source": [
    "#usando clustering para analizar a coluna\n",
    "\n",
    "ohe = OneHotEncoder()\n",
    "\n",
    "\n",
    "#precisa transformar em um array para poder concatenar \n",
    "fintech_ohe = ohe.fit_transform(x).toarray()\n",
    "gender_ohe = ohe.fit_transform(y).toarray()\n",
    "\n",
    "data_enconded = np.concatenate((fintech_ohe, gender_ohe), axis=1)\n",
    "\n",
    "print(data_enconded)\n"
   ]
  },
  {
   "cell_type": "code",
   "execution_count": null,
   "metadata": {},
   "outputs": [],
   "source": [
    "# usando KMeans\n",
    "\n",
    "#criando um modelo Kemeans\n",
    "k = 5\n",
    "\n",
    "kmeans = KMeans(n_clusters= k)\n",
    "\n",
    "df['cluster'] = kmeans.fit_predict(data_enconded)\n",
    "\n",
    "print(df.columns)"
   ]
  },
  {
   "cell_type": "code",
   "execution_count": null,
   "metadata": {},
   "outputs": [],
   "source": [
    "#conversão da coluna Value em float, sem querer criei a coluna Valor\n",
    "\n",
    "df['Valor'] = df['Value'].replace({'\\$': '', ',': ''}, regex=True).str.strip().astype(float)\n",
    "\n",
    "print(df['Valor'].head())"
   ]
  },
  {
   "cell_type": "code",
   "execution_count": null,
   "metadata": {},
   "outputs": [],
   "source": [
    "print(df.columns)\n",
    "\n",
    "df_powerBi = df[['id', 'cluster']]\n",
    "df_powerBi.to_csv('dados_cluster.csv')"
   ]
  },
  {
   "cell_type": "code",
   "execution_count": null,
   "metadata": {},
   "outputs": [],
   "source": [
    "#Calcular as porcentagens de utilização de fintechs por gênero\n",
    "\n",
    "#usando groupby para calcular a porcentagem\n",
    "agrupando_colunas =  df[['gender', 'Fintech','Valor']].groupby(['gender', 'Fintech']).sum().reset_index()\n",
    "\n",
    "somando_valores_genero = df.groupby('gender')['Valor'].sum().reset_index()\n",
    "#Somando todos os valores da coluna Valor\n",
    "soma_total_coluna = df['Valor'].round(2).sum()\n",
    "\n",
    "somando_valores_genero['porcentagem'] = (somando_valores_genero['Valor'] / soma_total_coluna) * 100\n",
    "\n",
    "#organizando o Data Frame em ordem decrescente\n",
    "somando_valores_genero = somando_valores_genero.sort_values(by='porcentagem', ascending= False)\n",
    "\n",
    "porcentagem = df['porcentagem']\n",
    "#código de porcentagem do valor\n",
    "\n",
    "print(somando_valores_genero.head())\n",
    "print('A soma total é:', soma_total_coluna)\n",
    "print('A porcentagem é de:', porcentagem)\n",
    "print(df['gender'].value_counts())"
   ]
  },
  {
   "cell_type": "code",
   "execution_count": null,
   "metadata": {},
   "outputs": [],
   "source": [
    "#criação de visualização (grafico de barras ou pizza para ilustrar)\n",
    "\n",
    "#Gráfico de barras matplotlib e seaborn\n",
    "\n",
    "sns.set_theme(style= 'darkgrid')\n",
    "plt.figure(figsize= (10,6))\n",
    "bar_plot = sns.barplot(data = somando_valores_genero, x='gender', y='porcentagem', palette='viridis')\n",
    "plt.xlabel(\"\")\n",
    "plt.ylabel(\"\")\n",
    "plt.title('Gênero por Fintech')\n",
    "\n",
    "\n",
    "for p in bar_plot.patches:\n",
    "    bar_plot.annotate(f'{p.get_height():.2f}%', \n",
    "                      (p.get_x() + p.get_width() / 2., p.get_height()), \n",
    "                      ha='center', va='bottom')\n",
    "\n",
    "plt.show()"
   ]
  },
  {
   "cell_type": "code",
   "execution_count": null,
   "metadata": {},
   "outputs": [],
   "source": [
    "#filtrando as colunas e gravando em outro arquivo\n",
    "print(df.columns)\n",
    "\n",
    "df_Novo = df[['id', 'name','Credit_card', 'Valor','Value', 'Fintech']]\n",
    "\n",
    "print(df_Novo)\n",
    "\n",
    "df_Novo.to_csv('dados_analise_credit.csv', index=False)"
   ]
  },
  {
   "cell_type": "code",
   "execution_count": null,
   "metadata": {},
   "outputs": [],
   "source": [
    "df_Novo['Valor'].round(2).describe() \n"
   ]
  },
  {
   "cell_type": "code",
   "execution_count": null,
   "metadata": {},
   "outputs": [],
   "source": [
    "df['Valor', 'gender'].describe().sum()"
   ]
  },
  {
   "cell_type": "code",
   "execution_count": null,
   "metadata": {},
   "outputs": [],
   "source": [
    "\n",
    "#Analise de dados Geo\n",
    "print(df.columns)\n",
    "\n",
    "df_analise_geo = df[['id','name','gender','ip_address','Valor']]\n",
    "\n",
    "df_analise_geo.to_csv('data_geo.csv', index= False)"
   ]
  }
 ],
 "metadata": {
  "kernelspec": {
   "display_name": "base",
   "language": "python",
   "name": "python3"
  },
  "language_info": {
   "codemirror_mode": {
    "name": "ipython",
    "version": 3
   },
   "file_extension": ".py",
   "mimetype": "text/x-python",
   "name": "python",
   "nbconvert_exporter": "python",
   "pygments_lexer": "ipython3",
   "version": "3.9.13"
  }
 },
 "nbformat": 4,
 "nbformat_minor": 2
}
