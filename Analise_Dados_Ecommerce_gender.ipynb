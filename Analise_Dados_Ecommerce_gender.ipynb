{
 "cells": [
  {
   "cell_type": "code",
   "execution_count": 1,
   "metadata": {},
   "outputs": [],
   "source": [
    "#Problema de negócio!!!\n",
    "#Popularidade de fintechs por gênero\n",
    "#Quantas pessoas utilizam cartão de crédito nas compras?\n",
    "#De quais regiões os usuários estão acessando (com o auxílio de bibliotecas de geolocalização de IP)"
   ]
  },
  {
   "cell_type": "code",
   "execution_count": 2,
   "metadata": {},
   "outputs": [],
   "source": [
    "import pandas as pd\n",
    "import numpy as np\n",
    "import matplotlib.pyplot as plt\n",
    "import seaborn as sns"
   ]
  },
  {
   "cell_type": "code",
   "execution_count": 3,
   "metadata": {},
   "outputs": [],
   "source": [
    "#Carregando os dados com pandas\n",
    "dados = pd.read_csv('data.csv')\n",
    "df =  pd.DataFrame(dados)"
   ]
  },
  {
   "cell_type": "code",
   "execution_count": 4,
   "metadata": {},
   "outputs": [
    {
     "name": "stdout",
     "output_type": "stream",
     "text": [
      "id              0\n",
      "first_name      0\n",
      "last_name       0\n",
      "email           0\n",
      "gender          0\n",
      "ip_address      0\n",
      "Credit_card     0\n",
      "Salles_Value    0\n",
      "Manufacturer    0\n",
      "dtype: int64\n",
      "Index(['id', 'first_name', 'last_name', 'email', 'gender', 'ip_address',\n",
      "       'Credit_card', 'Salles_Value', 'Manufacturer'],\n",
      "      dtype='object')\n",
      "(1000, 9)\n"
     ]
    }
   ],
   "source": [
    "#Analise exploratória\n",
    "\n",
    "valores_ausentes = df.isnull().sum()\n",
    "print(valores_ausentes)\n",
    "print(df.columns)\n",
    "print(df.shape)\n"
   ]
  },
  {
   "cell_type": "code",
   "execution_count": 5,
   "metadata": {},
   "outputs": [
    {
     "name": "stdout",
     "output_type": "stream",
     "text": [
      "0      False\n",
      "1      False\n",
      "2      False\n",
      "3      False\n",
      "4      False\n",
      "       ...  \n",
      "995    False\n",
      "996    False\n",
      "997    False\n",
      "998    False\n",
      "999    False\n",
      "Length: 1000, dtype: bool\n"
     ]
    }
   ],
   "source": [
    "#Analise exploratória\n",
    "#Não existe valores duplicados\n",
    "\n",
    "valor_duplicado = df.duplicated()\n",
    "print(valor_duplicado)"
   ]
  },
  {
   "cell_type": "code",
   "execution_count": 6,
   "metadata": {},
   "outputs": [
    {
     "data": {
      "text/html": [
       "<div>\n",
       "<style scoped>\n",
       "    .dataframe tbody tr th:only-of-type {\n",
       "        vertical-align: middle;\n",
       "    }\n",
       "\n",
       "    .dataframe tbody tr th {\n",
       "        vertical-align: top;\n",
       "    }\n",
       "\n",
       "    .dataframe thead th {\n",
       "        text-align: right;\n",
       "    }\n",
       "</style>\n",
       "<table border=\"1\" class=\"dataframe\">\n",
       "  <thead>\n",
       "    <tr style=\"text-align: right;\">\n",
       "      <th></th>\n",
       "      <th>id</th>\n",
       "      <th>first_name</th>\n",
       "      <th>last_name</th>\n",
       "      <th>email</th>\n",
       "      <th>gender</th>\n",
       "      <th>ip_address</th>\n",
       "      <th>Credit_card</th>\n",
       "      <th>Salles_Value</th>\n",
       "      <th>Manufacturer</th>\n",
       "    </tr>\n",
       "  </thead>\n",
       "  <tbody>\n",
       "    <tr>\n",
       "      <th>0</th>\n",
       "      <td>1</td>\n",
       "      <td>Corey</td>\n",
       "      <td>Westpfel</td>\n",
       "      <td>cwestpfel0@aboutads.info</td>\n",
       "      <td>Male</td>\n",
       "      <td>113.103.0.13</td>\n",
       "      <td>mastercard</td>\n",
       "      <td>$927.99</td>\n",
       "      <td>IES Holdings, Inc.</td>\n",
       "    </tr>\n",
       "    <tr>\n",
       "      <th>1</th>\n",
       "      <td>2</td>\n",
       "      <td>Aloysius</td>\n",
       "      <td>Hurle</td>\n",
       "      <td>ahurle1@artisteer.com</td>\n",
       "      <td>Bigender</td>\n",
       "      <td>206.43.60.209</td>\n",
       "      <td>mastercard</td>\n",
       "      <td>$305.92</td>\n",
       "      <td>ASML Holding N.V.</td>\n",
       "    </tr>\n",
       "    <tr>\n",
       "      <th>2</th>\n",
       "      <td>3</td>\n",
       "      <td>Ines</td>\n",
       "      <td>Bodiam</td>\n",
       "      <td>ibodiam2@goodreads.com</td>\n",
       "      <td>Female</td>\n",
       "      <td>69.172.221.168</td>\n",
       "      <td>mastercard</td>\n",
       "      <td>$175.40</td>\n",
       "      <td>NovoCure Limited</td>\n",
       "    </tr>\n",
       "    <tr>\n",
       "      <th>3</th>\n",
       "      <td>4</td>\n",
       "      <td>Helga</td>\n",
       "      <td>Antoniazzi</td>\n",
       "      <td>hantoniazzi3@1und1.de</td>\n",
       "      <td>Female</td>\n",
       "      <td>210.43.66.170</td>\n",
       "      <td>mastercard</td>\n",
       "      <td>$305.80</td>\n",
       "      <td>Lindblad Expeditions Holdings Inc.</td>\n",
       "    </tr>\n",
       "    <tr>\n",
       "      <th>4</th>\n",
       "      <td>5</td>\n",
       "      <td>Westley</td>\n",
       "      <td>Rives</td>\n",
       "      <td>wrives4@hatena.ne.jp</td>\n",
       "      <td>Male</td>\n",
       "      <td>3.166.143.45</td>\n",
       "      <td>mastercard</td>\n",
       "      <td>$40.58</td>\n",
       "      <td>Blackrock MuniHoldings New York Quality Fund, ...</td>\n",
       "    </tr>\n",
       "  </tbody>\n",
       "</table>\n",
       "</div>"
      ],
      "text/plain": [
       "   id first_name   last_name                     email    gender  \\\n",
       "0   1      Corey    Westpfel  cwestpfel0@aboutads.info      Male   \n",
       "1   2   Aloysius       Hurle     ahurle1@artisteer.com  Bigender   \n",
       "2   3       Ines      Bodiam    ibodiam2@goodreads.com    Female   \n",
       "3   4      Helga  Antoniazzi     hantoniazzi3@1und1.de    Female   \n",
       "4   5    Westley       Rives      wrives4@hatena.ne.jp      Male   \n",
       "\n",
       "       ip_address Credit_card Salles_Value  \\\n",
       "0    113.103.0.13  mastercard      $927.99   \n",
       "1   206.43.60.209  mastercard      $305.92   \n",
       "2  69.172.221.168  mastercard      $175.40   \n",
       "3   210.43.66.170  mastercard      $305.80   \n",
       "4    3.166.143.45  mastercard       $40.58   \n",
       "\n",
       "                                        Manufacturer  \n",
       "0                                 IES Holdings, Inc.  \n",
       "1                                  ASML Holding N.V.  \n",
       "2                                   NovoCure Limited  \n",
       "3                Lindblad Expeditions Holdings Inc.   \n",
       "4  Blackrock MuniHoldings New York Quality Fund, ...  "
      ]
     },
     "execution_count": 6,
     "metadata": {},
     "output_type": "execute_result"
    }
   ],
   "source": [
    "#Visualização dos dados\n",
    "df.head(5)"
   ]
  },
  {
   "cell_type": "code",
   "execution_count": 7,
   "metadata": {},
   "outputs": [
    {
     "data": {
      "text/html": [
       "<div>\n",
       "<style scoped>\n",
       "    .dataframe tbody tr th:only-of-type {\n",
       "        vertical-align: middle;\n",
       "    }\n",
       "\n",
       "    .dataframe tbody tr th {\n",
       "        vertical-align: top;\n",
       "    }\n",
       "\n",
       "    .dataframe thead th {\n",
       "        text-align: right;\n",
       "    }\n",
       "</style>\n",
       "<table border=\"1\" class=\"dataframe\">\n",
       "  <thead>\n",
       "    <tr style=\"text-align: right;\">\n",
       "      <th></th>\n",
       "      <th>id</th>\n",
       "      <th>email</th>\n",
       "      <th>gender</th>\n",
       "      <th>ip_address</th>\n",
       "      <th>Credit_card</th>\n",
       "      <th>Salles_Value</th>\n",
       "      <th>Manufacturer</th>\n",
       "      <th>name</th>\n",
       "    </tr>\n",
       "  </thead>\n",
       "  <tbody>\n",
       "    <tr>\n",
       "      <th>0</th>\n",
       "      <td>1</td>\n",
       "      <td>cwestpfel0@aboutads.info</td>\n",
       "      <td>Male</td>\n",
       "      <td>113.103.0.13</td>\n",
       "      <td>mastercard</td>\n",
       "      <td>$927.99</td>\n",
       "      <td>IES Holdings, Inc.</td>\n",
       "      <td>Corey Westpfel</td>\n",
       "    </tr>\n",
       "    <tr>\n",
       "      <th>1</th>\n",
       "      <td>2</td>\n",
       "      <td>ahurle1@artisteer.com</td>\n",
       "      <td>Bigender</td>\n",
       "      <td>206.43.60.209</td>\n",
       "      <td>mastercard</td>\n",
       "      <td>$305.92</td>\n",
       "      <td>ASML Holding N.V.</td>\n",
       "      <td>Aloysius Hurle</td>\n",
       "    </tr>\n",
       "    <tr>\n",
       "      <th>2</th>\n",
       "      <td>3</td>\n",
       "      <td>ibodiam2@goodreads.com</td>\n",
       "      <td>Female</td>\n",
       "      <td>69.172.221.168</td>\n",
       "      <td>mastercard</td>\n",
       "      <td>$175.40</td>\n",
       "      <td>NovoCure Limited</td>\n",
       "      <td>Ines Bodiam</td>\n",
       "    </tr>\n",
       "  </tbody>\n",
       "</table>\n",
       "</div>"
      ],
      "text/plain": [
       "   id                     email    gender      ip_address Credit_card  \\\n",
       "0   1  cwestpfel0@aboutads.info      Male    113.103.0.13  mastercard   \n",
       "1   2     ahurle1@artisteer.com  Bigender   206.43.60.209  mastercard   \n",
       "2   3    ibodiam2@goodreads.com    Female  69.172.221.168  mastercard   \n",
       "\n",
       "  Salles_Value        Manufacturer            name  \n",
       "0      $927.99  IES Holdings, Inc.  Corey Westpfel  \n",
       "1      $305.92   ASML Holding N.V.  Aloysius Hurle  \n",
       "2      $175.40    NovoCure Limited     Ines Bodiam  "
      ]
     },
     "execution_count": 7,
     "metadata": {},
     "output_type": "execute_result"
    }
   ],
   "source": [
    "# Concatenei a coluna nome e sobrenome, deixando apenas em uma coluna com rotulo Name\n",
    "df['name'] = df['first_name'].str.cat(df['last_name'], sep=' ')\n",
    "df = df.drop(['first_name', 'last_name'], axis=1)\n",
    "df.head(3)\n"
   ]
  },
  {
   "cell_type": "code",
   "execution_count": 8,
   "metadata": {},
   "outputs": [
    {
     "name": "stdout",
     "output_type": "stream",
     "text": [
      "Index(['id', 'name', 'email', 'gender', 'ip_address', 'Credit_card',\n",
      "       'Salles_Value', 'Manufacturer'],\n",
      "      dtype='object')\n"
     ]
    }
   ],
   "source": [
    "#Reordenei as colunas\n",
    "df = df[['id','name', 'email', 'gender', 'ip_address', 'Credit_card', 'Salles_Value',\n",
    "       'Manufacturer']]\n",
    "print(df.columns)"
   ]
  },
  {
   "cell_type": "code",
   "execution_count": 9,
   "metadata": {},
   "outputs": [
    {
     "name": "stdout",
     "output_type": "stream",
     "text": [
      "Index(['id', 'name', 'email', 'gender', 'ip_address', 'Credit_card', 'Value',\n",
      "       'Fintech'],\n",
      "      dtype='object')\n"
     ]
    }
   ],
   "source": [
    "#renomeando a coluna\n",
    "df.rename(columns={'Manufacturer': 'Fintech'}, inplace=True)\n",
    "df.rename(columns={'Salles_Value': 'Value'}, inplace=True)\n",
    "print(df.columns)"
   ]
  },
  {
   "cell_type": "code",
   "execution_count": 10,
   "metadata": {},
   "outputs": [
    {
     "name": "stdout",
     "output_type": "stream",
     "text": [
      "gender\n",
      "Female         456\n",
      "Male           446\n",
      "Bigender        23\n",
      "Agender         20\n",
      "Genderfluid     18\n",
      "Polygender      13\n",
      "Genderqueer     12\n",
      "Non-binary      12\n",
      "Name: count, dtype: int64\n"
     ]
    }
   ],
   "source": [
    "#Popularidade de fintechs por gênero\n",
    "#verificando a frequencia de valores em Fintech\n",
    "print(df['gender'].value_counts())\n",
    "\n"
   ]
  },
  {
   "cell_type": "code",
   "execution_count": 11,
   "metadata": {},
   "outputs": [
    {
     "name": "stdout",
     "output_type": "stream",
     "text": [
      "--------Fintechs-----------\n",
      "Fintech\n",
      "Capital One Financial Corporation     4\n",
      "J P Morgan Chase & Co                 3\n",
      "Summit Hotel Properties, Inc.         3\n",
      "ING Group, N.V.                       3\n",
      "ASML Holding N.V.                     3\n",
      "                                     ..\n",
      "Triangle Capital Corporation          1\n",
      "PFSweb, Inc.                          1\n",
      "Esterline Technologies Corporation    1\n",
      "Ramaco Resources, Inc.                1\n",
      "Digiliti Money Group, Inc.            1\n",
      "Name: count, Length: 896, dtype: int64\n"
     ]
    }
   ],
   "source": [
    "#Popularidade de fintechs por gênero\n",
    "#verificando a frequencia de valores em Fintech\n",
    "print('--------Fintechs-----------')\n",
    "print(df['Fintech'].value_counts())"
   ]
  },
  {
   "cell_type": "code",
   "execution_count": 12,
   "metadata": {},
   "outputs": [
    {
     "name": "stdout",
     "output_type": "stream",
     "text": [
      "0      0.001\n",
      "1      0.003\n",
      "2      0.001\n",
      "3      0.002\n",
      "4      0.001\n",
      "       ...  \n",
      "995    0.002\n",
      "996    0.001\n",
      "997    0.002\n",
      "998    0.001\n",
      "999    0.001\n",
      "Name: Fintech_weight, Length: 1000, dtype: float64\n",
      "(1000, 1)\n"
     ]
    }
   ],
   "source": [
    "#Padronizando para o clustering\n",
    "\n",
    "frequencia_fintech =  df['Fintech'].value_counts(normalize=True)\n",
    "fintech_peso = frequencia_fintech.to_dict()\n",
    "\n",
    "df['Fintech_weight'] = df['Fintech'].map(fintech_peso)\n",
    " \n",
    "print(df['Fintech_weight'])\n",
    "\n",
    "x_fintech = np.array(df['Fintech_weight'])\n",
    "x = x_fintech.reshape(-1,1)\n",
    "\n",
    "print(x.shape)"
   ]
  },
  {
   "cell_type": "code",
   "execution_count": 13,
   "metadata": {},
   "outputs": [
    {
     "name": "stdout",
     "output_type": "stream",
     "text": [
      "(1000, 1)\n"
     ]
    }
   ],
   "source": [
    "#Padronizando para o clustering\n",
    "\n",
    "#verifica quantas vezes aparece os valores\n",
    "frequencia_gender =  df['gender'].value_counts(normalize=True)\n",
    "gender_peso = frequencia_gender.to_dict()\n",
    "\n",
    "df['gender_weight'] = df['gender'].map(gender_peso)\n",
    "\n",
    "y_gender = np.array(df['gender_weight'])\n",
    "y = y_gender.reshape(-1,1)\n",
    "\n",
    "print(y.shape)"
   ]
  },
  {
   "cell_type": "code",
   "execution_count": 14,
   "metadata": {},
   "outputs": [],
   "source": [
    "#pacotes para utilização do clustering\n",
    "from sklearn.cluster import KMeans\n",
    "from sklearn.preprocessing import StandardScaler\n",
    "from sklearn.preprocessing import OneHotEncoder"
   ]
  },
  {
   "cell_type": "code",
   "execution_count": 15,
   "metadata": {},
   "outputs": [],
   "source": [
    "#Como são Dados Categoricos, é necessário fazer a transformação para dados numéricos"
   ]
  },
  {
   "cell_type": "code",
   "execution_count": 16,
   "metadata": {},
   "outputs": [
    {
     "name": "stdout",
     "output_type": "stream",
     "text": [
      "[[1. 0. 0. ... 0. 1. 0.]\n",
      " [0. 0. 1. ... 1. 0. 0.]\n",
      " [1. 0. 0. ... 0. 0. 1.]\n",
      " ...\n",
      " [0. 1. 0. ... 0. 0. 1.]\n",
      " [1. 0. 0. ... 0. 1. 0.]\n",
      " [1. 0. 0. ... 0. 1. 0.]]\n"
     ]
    }
   ],
   "source": [
    "#usando clustering para analizar a coluna\n",
    "\n",
    "ohe = OneHotEncoder()\n",
    "\n",
    "\n",
    "#precisa transformar em um array para poder concatenar \n",
    "fintech_ohe = ohe.fit_transform(x).toarray()\n",
    "gender_ohe = ohe.fit_transform(y).toarray()\n",
    "\n",
    "data_enconded = np.concatenate((fintech_ohe, gender_ohe), axis=1)\n",
    "\n",
    "print(data_enconded)\n"
   ]
  },
  {
   "cell_type": "code",
   "execution_count": 17,
   "metadata": {},
   "outputs": [
    {
     "name": "stdout",
     "output_type": "stream",
     "text": [
      "   id              name                     email    gender      ip_address  \\\n",
      "0   1    Corey Westpfel  cwestpfel0@aboutads.info      Male    113.103.0.13   \n",
      "1   2    Aloysius Hurle     ahurle1@artisteer.com  Bigender   206.43.60.209   \n",
      "2   3       Ines Bodiam    ibodiam2@goodreads.com    Female  69.172.221.168   \n",
      "3   4  Helga Antoniazzi     hantoniazzi3@1und1.de    Female   210.43.66.170   \n",
      "4   5     Westley Rives      wrives4@hatena.ne.jp      Male    3.166.143.45   \n",
      "\n",
      "  Credit_card    Value                                            Fintech  \\\n",
      "0  mastercard  $927.99                                 IES Holdings, Inc.   \n",
      "1  mastercard  $305.92                                  ASML Holding N.V.   \n",
      "2  mastercard  $175.40                                   NovoCure Limited   \n",
      "3  mastercard  $305.80                Lindblad Expeditions Holdings Inc.    \n",
      "4  mastercard   $40.58  Blackrock MuniHoldings New York Quality Fund, ...   \n",
      "\n",
      "   Fintech_weight  gender_weight  cluster  \n",
      "0           0.001          0.446        1  \n",
      "1           0.003          0.023        2  \n",
      "2           0.001          0.456        0  \n",
      "3           0.002          0.456        3  \n",
      "4           0.001          0.446        1  \n"
     ]
    }
   ],
   "source": [
    "# usando KMeans\n",
    "\n",
    "#criando um modelo Kemeans\n",
    "k = 5\n",
    "\n",
    "kmeans = KMeans(n_clusters= k)\n",
    "\n",
    "df['cluster'] = kmeans.fit_predict(data_enconded)\n",
    "\n",
    "print(df.head(5))"
   ]
  },
  {
   "cell_type": "code",
   "execution_count": 18,
   "metadata": {},
   "outputs": [
    {
     "name": "stdout",
     "output_type": "stream",
     "text": [
      "0    927.99\n",
      "1    305.92\n",
      "2    175.40\n",
      "3    305.80\n",
      "4     40.58\n",
      "Name: Valor, dtype: float64\n"
     ]
    }
   ],
   "source": [
    "#conversão da coluna Value em float, sem querer criei a coluna Valor\n",
    "\n",
    "df['Valor'] = df['Value'].replace({'\\$': '', ',': ''}, regex=True).str.strip().astype(float)\n",
    "\n",
    "print(df['Valor'].head())"
   ]
  },
  {
   "cell_type": "code",
   "execution_count": 19,
   "metadata": {},
   "outputs": [
    {
     "ename": "KeyError",
     "evalue": "'porcentagem'",
     "output_type": "error",
     "traceback": [
      "\u001b[1;31m---------------------------------------------------------------------------\u001b[0m",
      "\u001b[1;31mKeyError\u001b[0m                                  Traceback (most recent call last)",
      "\u001b[1;32mc:\\Users\\dante\\anaconda3\\lib\\site-packages\\pandas\\core\\indexes\\base.py\u001b[0m in \u001b[0;36mget_loc\u001b[1;34m(self, key)\u001b[0m\n\u001b[0;32m   3804\u001b[0m         \u001b[1;32mtry\u001b[0m\u001b[1;33m:\u001b[0m\u001b[1;33m\u001b[0m\u001b[1;33m\u001b[0m\u001b[0m\n\u001b[1;32m-> 3805\u001b[1;33m             \u001b[1;32mreturn\u001b[0m \u001b[0mself\u001b[0m\u001b[1;33m.\u001b[0m\u001b[0m_engine\u001b[0m\u001b[1;33m.\u001b[0m\u001b[0mget_loc\u001b[0m\u001b[1;33m(\u001b[0m\u001b[0mcasted_key\u001b[0m\u001b[1;33m)\u001b[0m\u001b[1;33m\u001b[0m\u001b[1;33m\u001b[0m\u001b[0m\n\u001b[0m\u001b[0;32m   3806\u001b[0m         \u001b[1;32mexcept\u001b[0m \u001b[0mKeyError\u001b[0m \u001b[1;32mas\u001b[0m \u001b[0merr\u001b[0m\u001b[1;33m:\u001b[0m\u001b[1;33m\u001b[0m\u001b[1;33m\u001b[0m\u001b[0m\n",
      "\u001b[1;32mindex.pyx\u001b[0m in \u001b[0;36mpandas._libs.index.IndexEngine.get_loc\u001b[1;34m()\u001b[0m\n",
      "\u001b[1;32mindex.pyx\u001b[0m in \u001b[0;36mpandas._libs.index.IndexEngine.get_loc\u001b[1;34m()\u001b[0m\n",
      "\u001b[1;32mpandas\\\\_libs\\\\hashtable_class_helper.pxi\u001b[0m in \u001b[0;36mpandas._libs.hashtable.PyObjectHashTable.get_item\u001b[1;34m()\u001b[0m\n",
      "\u001b[1;32mpandas\\\\_libs\\\\hashtable_class_helper.pxi\u001b[0m in \u001b[0;36mpandas._libs.hashtable.PyObjectHashTable.get_item\u001b[1;34m()\u001b[0m\n",
      "\u001b[1;31mKeyError\u001b[0m: 'porcentagem'",
      "\nThe above exception was the direct cause of the following exception:\n",
      "\u001b[1;31mKeyError\u001b[0m                                  Traceback (most recent call last)",
      "\u001b[1;32m~\\AppData\\Local\\Temp\\ipykernel_16116\\523924334.py\u001b[0m in \u001b[0;36m<module>\u001b[1;34m\u001b[0m\n\u001b[0;32m     13\u001b[0m \u001b[0msomando_valores_genero\u001b[0m \u001b[1;33m=\u001b[0m \u001b[0msomando_valores_genero\u001b[0m\u001b[1;33m.\u001b[0m\u001b[0msort_values\u001b[0m\u001b[1;33m(\u001b[0m\u001b[0mby\u001b[0m\u001b[1;33m=\u001b[0m\u001b[1;34m'porcentagem'\u001b[0m\u001b[1;33m,\u001b[0m \u001b[0mascending\u001b[0m\u001b[1;33m=\u001b[0m \u001b[1;32mFalse\u001b[0m\u001b[1;33m)\u001b[0m\u001b[1;33m\u001b[0m\u001b[1;33m\u001b[0m\u001b[0m\n\u001b[0;32m     14\u001b[0m \u001b[1;33m\u001b[0m\u001b[0m\n\u001b[1;32m---> 15\u001b[1;33m \u001b[0mporcentagem\u001b[0m \u001b[1;33m=\u001b[0m \u001b[0mdf\u001b[0m\u001b[1;33m[\u001b[0m\u001b[1;34m'porcentagem'\u001b[0m\u001b[1;33m]\u001b[0m\u001b[1;33m\u001b[0m\u001b[1;33m\u001b[0m\u001b[0m\n\u001b[0m\u001b[0;32m     16\u001b[0m \u001b[1;31m#código de porcentagem do valor\u001b[0m\u001b[1;33m\u001b[0m\u001b[1;33m\u001b[0m\u001b[0m\n\u001b[0;32m     17\u001b[0m \u001b[1;33m\u001b[0m\u001b[0m\n",
      "\u001b[1;32mc:\\Users\\dante\\anaconda3\\lib\\site-packages\\pandas\\core\\frame.py\u001b[0m in \u001b[0;36m__getitem__\u001b[1;34m(self, key)\u001b[0m\n\u001b[0;32m   4100\u001b[0m             \u001b[1;32mif\u001b[0m \u001b[0mself\u001b[0m\u001b[1;33m.\u001b[0m\u001b[0mcolumns\u001b[0m\u001b[1;33m.\u001b[0m\u001b[0mnlevels\u001b[0m \u001b[1;33m>\u001b[0m \u001b[1;36m1\u001b[0m\u001b[1;33m:\u001b[0m\u001b[1;33m\u001b[0m\u001b[1;33m\u001b[0m\u001b[0m\n\u001b[0;32m   4101\u001b[0m                 \u001b[1;32mreturn\u001b[0m \u001b[0mself\u001b[0m\u001b[1;33m.\u001b[0m\u001b[0m_getitem_multilevel\u001b[0m\u001b[1;33m(\u001b[0m\u001b[0mkey\u001b[0m\u001b[1;33m)\u001b[0m\u001b[1;33m\u001b[0m\u001b[1;33m\u001b[0m\u001b[0m\n\u001b[1;32m-> 4102\u001b[1;33m             \u001b[0mindexer\u001b[0m \u001b[1;33m=\u001b[0m \u001b[0mself\u001b[0m\u001b[1;33m.\u001b[0m\u001b[0mcolumns\u001b[0m\u001b[1;33m.\u001b[0m\u001b[0mget_loc\u001b[0m\u001b[1;33m(\u001b[0m\u001b[0mkey\u001b[0m\u001b[1;33m)\u001b[0m\u001b[1;33m\u001b[0m\u001b[1;33m\u001b[0m\u001b[0m\n\u001b[0m\u001b[0;32m   4103\u001b[0m             \u001b[1;32mif\u001b[0m \u001b[0mis_integer\u001b[0m\u001b[1;33m(\u001b[0m\u001b[0mindexer\u001b[0m\u001b[1;33m)\u001b[0m\u001b[1;33m:\u001b[0m\u001b[1;33m\u001b[0m\u001b[1;33m\u001b[0m\u001b[0m\n\u001b[0;32m   4104\u001b[0m                 \u001b[0mindexer\u001b[0m \u001b[1;33m=\u001b[0m \u001b[1;33m[\u001b[0m\u001b[0mindexer\u001b[0m\u001b[1;33m]\u001b[0m\u001b[1;33m\u001b[0m\u001b[1;33m\u001b[0m\u001b[0m\n",
      "\u001b[1;32mc:\\Users\\dante\\anaconda3\\lib\\site-packages\\pandas\\core\\indexes\\base.py\u001b[0m in \u001b[0;36mget_loc\u001b[1;34m(self, key)\u001b[0m\n\u001b[0;32m   3810\u001b[0m             ):\n\u001b[0;32m   3811\u001b[0m                 \u001b[1;32mraise\u001b[0m \u001b[0mInvalidIndexError\u001b[0m\u001b[1;33m(\u001b[0m\u001b[0mkey\u001b[0m\u001b[1;33m)\u001b[0m\u001b[1;33m\u001b[0m\u001b[1;33m\u001b[0m\u001b[0m\n\u001b[1;32m-> 3812\u001b[1;33m             \u001b[1;32mraise\u001b[0m \u001b[0mKeyError\u001b[0m\u001b[1;33m(\u001b[0m\u001b[0mkey\u001b[0m\u001b[1;33m)\u001b[0m \u001b[1;32mfrom\u001b[0m \u001b[0merr\u001b[0m\u001b[1;33m\u001b[0m\u001b[1;33m\u001b[0m\u001b[0m\n\u001b[0m\u001b[0;32m   3813\u001b[0m         \u001b[1;32mexcept\u001b[0m \u001b[0mTypeError\u001b[0m\u001b[1;33m:\u001b[0m\u001b[1;33m\u001b[0m\u001b[1;33m\u001b[0m\u001b[0m\n\u001b[0;32m   3814\u001b[0m             \u001b[1;31m# If we have a listlike key, _check_indexing_error will raise\u001b[0m\u001b[1;33m\u001b[0m\u001b[1;33m\u001b[0m\u001b[0m\n",
      "\u001b[1;31mKeyError\u001b[0m: 'porcentagem'"
     ]
    }
   ],
   "source": [
    "#Calcular as porcentagens de utilização de fintechs por gênero\n",
    "\n",
    "#usando groupby para calcular a porcentagem\n",
    "agrupando_colunas =  df[['gender', 'Fintech','Valor']].groupby(['gender', 'Fintech']).sum().reset_index()\n",
    "\n",
    "somando_valores_genero = df.groupby('gender')['Valor'].sum().reset_index()\n",
    "#Somando todos os valores da coluna Valor\n",
    "soma_total_coluna = df['Valor'].round(2).sum()\n",
    "\n",
    "somando_valores_genero['porcentagem'] = (somando_valores_genero['Valor'] / soma_total_coluna) * 100\n",
    "\n",
    "#organizando o Data Frame em ordem decrescente\n",
    "somando_valores_genero = somando_valores_genero.sort_values(by='porcentagem', ascending= False)\n",
    "\n",
    "porcentagem = df['porcentagem']\n",
    "#código de porcentagem do valor\n",
    "\n",
    "print(somando_valores_genero.head())\n",
    "print('A soma total é:', soma_total_coluna)\n",
    "print('A porcentagem é de:', porcentagem)\n",
    "print(df['gender'].value_counts())"
   ]
  },
  {
   "cell_type": "code",
   "execution_count": 90,
   "metadata": {},
   "outputs": [
    {
     "name": "stderr",
     "output_type": "stream",
     "text": [
      "C:\\Users\\dante\\AppData\\Local\\Temp\\ipykernel_8472\\2057264036.py:7: FutureWarning: \n",
      "\n",
      "Passing `palette` without assigning `hue` is deprecated and will be removed in v0.14.0. Assign the `x` variable to `hue` and set `legend=False` for the same effect.\n",
      "\n",
      "  bar_plot = sns.barplot(data = somando_valores_genero, x='gender', y='porcentagem', palette='viridis')\n"
     ]
    },
    {
     "data": {
      "image/png": "[encoded data removed]",
      "text/plain": [
       "<Figure size 1000x600 with 1 Axes>"
      ]
     },
     "metadata": {},
     "output_type": "display_data"
    }
   ],
   "source": [
    "#criação de visualização (grafico de barras ou pizza para ilustrar)\n",
    "\n",
    "#Gráfico de barras matplotlib e seaborn\n",
    "\n",
    "sns.set_theme(style= 'darkgrid')\n",
    "plt.figure(figsize= (10,6))\n",
    "bar_plot = sns.barplot(data = somando_valores_genero, x='gender', y='porcentagem', palette='viridis')\n",
    "plt.xlabel(\"\")\n",
    "plt.ylabel(\"\")\n",
    "plt.title('Gênero por Fintech')\n",
    "\n",
    "\n",
    "for p in bar_plot.patches:\n",
    "    bar_plot.annotate(f'{p.get_height():.2f}%', \n",
    "                      (p.get_x() + p.get_width() / 2., p.get_height()), \n",
    "                      ha='center', va='bottom')\n",
    "\n",
    "plt.show()"
   ]
  },
  {
   "cell_type": "code",
   "execution_count": 20,
   "metadata": {},
   "outputs": [
    {
     "name": "stdout",
     "output_type": "stream",
     "text": [
      "Index(['id', 'name', 'email', 'gender', 'ip_address', 'Credit_card', 'Value',\n",
      "       'Fintech', 'Fintech_weight', 'gender_weight', 'cluster', 'Valor'],\n",
      "      dtype='object')\n"
     ]
    }
   ],
   "source": [
    "#filtrando as colunas e gravando em outro arquivo\n",
    "print(df.columns)\n",
    "\n",
    "df['Nova_Tabela'] = df['id', 'name','Credit_card', 'Valor', 'Fintech']"
   ]
  }
 ],
 "metadata": {
  "kernelspec": {
   "display_name": "base",
   "language": "python",
   "name": "python3"
  },
  "language_info": {
   "codemirror_mode": {
    "name": "ipython",
    "version": 3
   },
   "file_extension": ".py",
   "mimetype": "text/x-python",
   "name": "python",
   "nbconvert_exporter": "python",
   "pygments_lexer": "ipython3",
   "version": "3.9.13"
  }
 },
 "nbformat": 4,
 "nbformat_minor": 2
}
